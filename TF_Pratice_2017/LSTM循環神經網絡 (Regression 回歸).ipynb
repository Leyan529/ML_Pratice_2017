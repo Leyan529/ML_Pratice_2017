{
 "cells": [
  {
   "cell_type": "code",
   "execution_count": 1,
   "metadata": {},
   "outputs": [
    {
     "name": "stderr",
     "output_type": "stream",
     "text": [
      "D:\\Program\\Anaconda3\\envs\\tensorflow\\lib\\site-packages\\tensorflow\\python\\framework\\dtypes.py:469: FutureWarning: Passing (type, 1) or '1type' as a synonym of type is deprecated; in a future version of numpy, it will be understood as (type, (1,)) / '(1,)type'.\n",
      "  _np_qint8 = np.dtype([(\"qint8\", np.int8, 1)])\n",
      "D:\\Program\\Anaconda3\\envs\\tensorflow\\lib\\site-packages\\tensorflow\\python\\framework\\dtypes.py:470: FutureWarning: Passing (type, 1) or '1type' as a synonym of type is deprecated; in a future version of numpy, it will be understood as (type, (1,)) / '(1,)type'.\n",
      "  _np_quint8 = np.dtype([(\"quint8\", np.uint8, 1)])\n",
      "D:\\Program\\Anaconda3\\envs\\tensorflow\\lib\\site-packages\\tensorflow\\python\\framework\\dtypes.py:471: FutureWarning: Passing (type, 1) or '1type' as a synonym of type is deprecated; in a future version of numpy, it will be understood as (type, (1,)) / '(1,)type'.\n",
      "  _np_qint16 = np.dtype([(\"qint16\", np.int16, 1)])\n",
      "D:\\Program\\Anaconda3\\envs\\tensorflow\\lib\\site-packages\\tensorflow\\python\\framework\\dtypes.py:472: FutureWarning: Passing (type, 1) or '1type' as a synonym of type is deprecated; in a future version of numpy, it will be understood as (type, (1,)) / '(1,)type'.\n",
      "  _np_quint16 = np.dtype([(\"quint16\", np.uint16, 1)])\n",
      "D:\\Program\\Anaconda3\\envs\\tensorflow\\lib\\site-packages\\tensorflow\\python\\framework\\dtypes.py:473: FutureWarning: Passing (type, 1) or '1type' as a synonym of type is deprecated; in a future version of numpy, it will be understood as (type, (1,)) / '(1,)type'.\n",
      "  _np_qint32 = np.dtype([(\"qint32\", np.int32, 1)])\n",
      "D:\\Program\\Anaconda3\\envs\\tensorflow\\lib\\site-packages\\tensorflow\\python\\framework\\dtypes.py:476: FutureWarning: Passing (type, 1) or '1type' as a synonym of type is deprecated; in a future version of numpy, it will be understood as (type, (1,)) / '(1,)type'.\n",
      "  np_resource = np.dtype([(\"resource\", np.ubyte, 1)])\n"
     ]
    }
   ],
   "source": [
    "import tensorflow as tf\n",
    "import numpy as np\n",
    "import os\n",
    "os.environ[\"CUDA_VISIBLE_DEVICES\"] = \"0\""
   ]
  },
  {
   "cell_type": "code",
   "execution_count": 2,
   "metadata": {
    "collapsed": true
   },
   "outputs": [],
   "source": [
    "import matplotlib.pyplot as plt\n",
    "tf.set_random_seed(1)\n",
    "np.random.seed(1)"
   ]
  },
  {
   "cell_type": "code",
   "execution_count": 3,
   "metadata": {},
   "outputs": [
    {
     "data": {
      "image/png": "[encoded data removed]",
      "text/plain": [
       "<Figure size 432x288 with 1 Axes>"
      ]
     },
     "metadata": {},
     "output_type": "display_data"
    }
   ],
   "source": [
    "# Hyper Parameters\n",
    "TIME_STEP = 10       # rnn time step\n",
    "INPUT_SIZE = 1      # rnn input size\n",
    "CELL_SIZE = 32      # rnn cell size\n",
    "LR = 0.02           # learning rate\n",
    "\n",
    "# show data\n",
    "steps = np.linspace(0, np.pi*2, 100, dtype=np.float32)\n",
    "x_np = np.sin(steps); y_np = np.cos(steps)    # float32 for converting torch FloatTensor\n",
    "plt.plot(steps, y_np, 'r-', label='target (cos)'); plt.plot(steps, x_np, 'b-', label='input (sin)')\n",
    "plt.legend(loc='best'); plt.show()"
   ]
  },
  {
   "cell_type": "code",
   "execution_count": 4,
   "metadata": {
    "collapsed": true
   },
   "outputs": [],
   "source": [
    "# tensorflow placeholders\n",
    "tf_x = tf.placeholder(tf.float32, [None, TIME_STEP, INPUT_SIZE])        # shape(batch, 5, 1)\n",
    "tf_y = tf.placeholder(tf.float32, [None, TIME_STEP, INPUT_SIZE])          # input y"
   ]
  },
  {
   "cell_type": "code",
   "execution_count": 5,
   "metadata": {},
   "outputs": [],
   "source": [
    "# RNN\n",
    "with tf.variable_scope('LSTMCell'):\n",
    "    rnn_cell = tf.nn.rnn_cell.LSTMCell(num_units=CELL_SIZE)\n",
    "    \n",
    "with tf.variable_scope('initial_state'):  \n",
    "    init_s = rnn_cell.zero_state(batch_size=1, dtype=tf.float32)    # very first hidden state\n",
    "\n",
    "with tf.variable_scope('dynamic_rnn'): \n",
    "    outputs, final_s = tf.nn.dynamic_rnn(\n",
    "        rnn_cell,                   # cell you have chosen\n",
    "        tf_x,                       # input\n",
    "        initial_state=init_s,       # the initial hidden state\n",
    "        time_major=False,           # False: (batch, time step, input); True: (time step, batch, input)\n",
    "    )\n",
    "    \n",
    "outs2D = tf.reshape(outputs, [-1, CELL_SIZE])                       # reshape 3D output to 2D for fully connected layer\n",
    "net_outs2D = tf.layers.dense(outs2D, INPUT_SIZE)\n",
    "outs = tf.reshape(net_outs2D, [-1, TIME_STEP, INPUT_SIZE])          # reshape back to 3D\n",
    "\n",
    "with tf.name_scope('loss'): \n",
    "    loss = tf.losses.mean_squared_error(labels=tf_y, predictions=outs)  # compute cost\n",
    "    tf.summary.scalar('loss', loss)     # add loss to scalar summary\n",
    "    \n",
    "with tf.name_scope('train'): \n",
    "    train_op = tf.train.AdamOptimizer(LR).minimize(loss)\n",
    "    \n",
    "merge_op = tf.summary.merge_all()                       # operation to merge all summary"
   ]
  },
  {
   "cell_type": "code",
   "execution_count": 6,
   "metadata": {
    "collapsed": true
   },
   "outputs": [],
   "source": [
    "'''如果你是使用GPU版TensorFlow的話，並且你想在顯卡高佔用率的情況下（比如玩遊戲）訓練模型，\n",
    "那你要注意在初始化Session的時候為其分配固定數量的顯存，否則可能會在開始訓練的時候直接報錯退出'''\n",
    "\n",
    "gpu_options = tf.GPUOptions(per_process_gpu_memory_fraction=0.6)  \n",
    "sess = tf.Session(config=tf.ConfigProto(gpu_options=gpu_options)) "
   ]
  },
  {
   "cell_type": "code",
   "execution_count": 7,
   "metadata": {
    "collapsed": true
   },
   "outputs": [],
   "source": [
    "init_op = tf.group(tf.global_variables_initializer(), tf.local_variables_initializer()) # the local var is for accuracy_op\n",
    "writer = tf.summary.FileWriter('rnn/regression/ ', sess.graph)     # write to file\n",
    "sess.run(init_op)     # initialize var in graph"
   ]
  },
  {
   "cell_type": "code",
   "execution_count": 8,
   "metadata": {},
   "outputs": [
    {
     "name": "stdout",
     "output_type": "stream",
     "text": [
      "0.44186687\n",
      "0.31768078\n",
      "0.24414511\n",
      "0.04802855\n",
      "0.017521402\n",
      "0.036764026\n",
      "0.14181505\n",
      "0.033855833\n",
      "0.19088964\n",
      "0.07558133\n",
      "0.11550542\n",
      "0.18487655\n",
      "0.14897661\n",
      "0.2544055\n",
      "0.16650958\n",
      "0.25873482\n",
      "0.16319151\n",
      "0.22882943\n",
      "0.10949121\n",
      "0.15478103\n",
      "0.030960988\n",
      "0.061883092\n",
      "0.008346583\n",
      "0.012162693\n",
      "0.04136508\n",
      "0.010518318\n",
      "0.060304154\n",
      "0.02230848\n",
      "0.05717368\n",
      "0.012503633\n",
      "0.025535401\n",
      "0.0015866669\n",
      "0.0043678023\n",
      "0.0113501595\n",
      "0.013763425\n",
      "0.02274465\n",
      "0.024371399\n",
      "0.021894354\n",
      "0.0224864\n",
      "0.011082422\n",
      "0.012997362\n",
      "0.0021161973\n",
      "0.004655731\n",
      "0.0034703568\n",
      "0.0014407664\n",
      "0.009879796\n",
      "0.0040329797\n",
      "0.012022747\n",
      "0.0077126822\n",
      "0.0098662535\n",
      "0.006168342\n",
      "0.005830571\n",
      "0.0023109927\n",
      "0.0019533099\n",
      "0.0014944205\n",
      "0.0009397099\n",
      "0.0040790355\n",
      "0.002248559\n",
      "0.005019063\n",
      "0.0034708225\n"
     ]
    }
   ],
   "source": [
    "saver = tf.train.Saver()  # define a saver for saving and restoring\n",
    "save_path = 'rnn/regression/model.ckpt'\n",
    "               \n",
    "# plt.figure(1, figsize=(12, 5)); plt.ion()       # continuously plot\n",
    "\n",
    "# for step in range(60):\n",
    "#     start, end = step * np.pi, (step+1)*np.pi   # time range\n",
    "#     # use sin predicts cos\n",
    "#     steps = np.linspace(start, end, TIME_STEP)\n",
    "#     x = np.sin(steps)[np.newaxis, :, np.newaxis]    # shape (batch, time_step, input_size)\n",
    "#     y = np.cos(steps)[np.newaxis, :, np.newaxis]\n",
    "#     if 'final_s_' not in globals():                 # first state, no any hidden state\n",
    "#         feed_dict = {tf_x: x, tf_y: y}\n",
    "#     else:                                           # has hidden state, so pass it to rnn\n",
    "#         feed_dict = {tf_x: x, tf_y: y, init_s: final_s_}\n",
    "#     _, pred_, final_s_ = sess.run([train_op, outs, final_s], feed_dict)     # train\n",
    "\n",
    "# #     result = sess.run(merge_op, feed_dict)\n",
    "# #     writer.add_summary(result, step)\n",
    "#     saver.save(sess, save_path, global_step=step)\n",
    "#     # plotting\n",
    "#     plt.plot(steps, y.flatten(), 'r-'); plt.plot(steps, pred_.flatten(), 'b-')\n",
    "#     plt.ylim((-1.2, 1.2)); plt.draw(); plt.pause(0.05)\n",
    "\n",
    "# plt.ioff(); plt.show()\n",
    "\n",
    "\n",
    "for step in range(60):\n",
    "    start, end = step * np.pi, (step+1)*np.pi   # time range\n",
    "    # use sin predicts cos\n",
    "    steps = np.linspace(start, end, TIME_STEP)\n",
    "    x = np.sin(steps)[np.newaxis, :, np.newaxis]    # shape (batch, time_step, input_size)\n",
    "    y = np.cos(steps)[np.newaxis, :, np.newaxis]\n",
    "    if 'final_s_' not in globals():                 # first state, no any hidden state\n",
    "        feed_dict = {tf_x: x, tf_y: y}\n",
    "    else:                                           # has hidden state, so pass it to rnn\n",
    "        feed_dict = {tf_x: x, tf_y: y, init_s: final_s_}\n",
    "    _, pred_, final_s_ = sess.run([train_op, outs, final_s], feed_dict)     # train\n",
    "    loss_ = sess.run(loss, feed_dict)     # loss_  \n",
    "    print(loss_)\n",
    "    result = sess.run(merge_op, feed_dict)\n",
    "    writer.add_summary(result, step)\n",
    "    saver.save(sess, save_path, global_step=step)\n",
    "\n",
    "\n"
   ]
  },
  {
   "cell_type": "markdown",
   "metadata": {},
   "source": [
    "# Saver 保存讀取"
   ]
  },
  {
   "cell_type": "code",
   "execution_count": 9,
   "metadata": {
    "collapsed": true
   },
   "outputs": [],
   "source": [
    "def save():  \n",
    "    saver = tf.train.Saver()  # define a saver for saving and restoring\n",
    "    saver.save(sess, save_path)  # meta_graph is not recommended       \n",
    "\n",
    "save()"
   ]
  },
  {
   "cell_type": "code",
   "execution_count": 10,
   "metadata": {},
   "outputs": [
    {
     "name": "stdout",
     "output_type": "stream",
     "text": [
      "This is reload\n",
      "Found checkpoint, try to restore...\n",
      "INFO:tensorflow:Restoring parameters from rnn/regression/model.ckpt\n",
      "<tf.Variable 'dynamic_rnn/rnn/lstm_cell/kernel:0' shape=(33, 128) dtype=float32_ref>\n",
      "<tf.Variable 'dynamic_rnn/rnn/lstm_cell/bias:0' shape=(128,) dtype=float32_ref>\n",
      "<tf.Variable 'dense/kernel:0' shape=(32, 1) dtype=float32_ref>\n",
      "<tf.Variable 'dense/bias:0' shape=(1,) dtype=float32_ref>\n"
     ]
    }
   ],
   "source": [
    "# destroy previous net\n",
    "tf.reset_default_graph()\n",
    "\n",
    "def reload():\n",
    "    print('This is reload')\n",
    "    with tf.Session() as sess:\n",
    "        ckpt = tf.train.get_checkpoint_state(os.path.dirname(save_path))       \n",
    "        if ckpt and ckpt.model_checkpoint_path:\n",
    "#             print(tf.train.latest_checkpoint('cnn'))            \n",
    "            print('Found checkpoint, try to restore...')\n",
    "            saver = tf.train.import_meta_graph(''.join([ckpt.model_checkpoint_path, '.meta']))   \n",
    "            saver.restore(sess, tf.train.latest_checkpoint(save_path.replace('model.ckpt','')))\n",
    "\n",
    "            # 列印出網路中可訓練的權重引數名\n",
    "            for var in tf.trainable_variables():\n",
    "                print(var)           \n",
    "reload() "
   ]
  },
  {
   "cell_type": "markdown",
   "metadata": {},
   "source": [
    "# Reload 後繼續train"
   ]
  },
  {
   "cell_type": "code",
   "execution_count": 11,
   "metadata": {},
   "outputs": [],
   "source": [
    "# for step in range(60):\n",
    "#     start, end = step * np.pi, (step+1)*np.pi   # time range\n",
    "#     # use sin predicts cos\n",
    "#     steps = np.linspace(start, end, TIME_STEP)\n",
    "#     x = np.sin(steps)[np.newaxis, :, np.newaxis]    # shape (batch, time_step, input_size)\n",
    "#     y = np.cos(steps)[np.newaxis, :, np.newaxis]\n",
    "#     if 'final_s_' not in globals():                 # first state, no any hidden state\n",
    "#         feed_dict = {tf_x: x, tf_y: y}\n",
    "#     else:                                           # has hidden state, so pass it to rnn\n",
    "#         feed_dict = {tf_x: x, tf_y: y, init_s: final_s_}\n",
    "#     _, pred_, final_s_ = sess.run([train_op, outs, final_s], feed_dict)     # train    \n",
    "#     loss_ = sess.run(loss, feed_dict)     # loss_    \n",
    "# #     print(loss_)\n",
    "#     result = sess.run(merge_op, feed_dict)\n",
    "#     writer.add_summary(result, step)\n",
    "#     saver.save(sess, save_path, global_step=step)"
   ]
  },
  {
   "cell_type": "code",
   "execution_count": null,
   "metadata": {
    "collapsed": true
   },
   "outputs": [],
   "source": []
  }
 ],
 "metadata": {
  "kernelspec": {
   "display_name": "Python 3",
   "language": "python",
   "name": "python3"
  },
  "language_info": {
   "codemirror_mode": {
    "name": "ipython",
    "version": 3
   },
   "file_extension": ".py",
   "mimetype": "text/x-python",
   "name": "python",
   "nbconvert_exporter": "python",
   "pygments_lexer": "ipython3",
   "version": "3.6.2"
  }
 },
 "nbformat": 4,
 "nbformat_minor": 2
}
