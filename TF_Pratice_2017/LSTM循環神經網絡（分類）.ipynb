{
 "cells": [
  {
   "cell_type": "code",
   "execution_count": 1,
   "metadata": {},
   "outputs": [
    {
     "name": "stderr",
     "output_type": "stream",
     "text": [
      "D:\\Program\\Anaconda3\\envs\\tensorflow\\lib\\site-packages\\tensorflow\\python\\framework\\dtypes.py:469: FutureWarning: Passing (type, 1) or '1type' as a synonym of type is deprecated; in a future version of numpy, it will be understood as (type, (1,)) / '(1,)type'.\n",
      "  _np_qint8 = np.dtype([(\"qint8\", np.int8, 1)])\n",
      "D:\\Program\\Anaconda3\\envs\\tensorflow\\lib\\site-packages\\tensorflow\\python\\framework\\dtypes.py:470: FutureWarning: Passing (type, 1) or '1type' as a synonym of type is deprecated; in a future version of numpy, it will be understood as (type, (1,)) / '(1,)type'.\n",
      "  _np_quint8 = np.dtype([(\"quint8\", np.uint8, 1)])\n",
      "D:\\Program\\Anaconda3\\envs\\tensorflow\\lib\\site-packages\\tensorflow\\python\\framework\\dtypes.py:471: FutureWarning: Passing (type, 1) or '1type' as a synonym of type is deprecated; in a future version of numpy, it will be understood as (type, (1,)) / '(1,)type'.\n",
      "  _np_qint16 = np.dtype([(\"qint16\", np.int16, 1)])\n",
      "D:\\Program\\Anaconda3\\envs\\tensorflow\\lib\\site-packages\\tensorflow\\python\\framework\\dtypes.py:472: FutureWarning: Passing (type, 1) or '1type' as a synonym of type is deprecated; in a future version of numpy, it will be understood as (type, (1,)) / '(1,)type'.\n",
      "  _np_quint16 = np.dtype([(\"quint16\", np.uint16, 1)])\n",
      "D:\\Program\\Anaconda3\\envs\\tensorflow\\lib\\site-packages\\tensorflow\\python\\framework\\dtypes.py:473: FutureWarning: Passing (type, 1) or '1type' as a synonym of type is deprecated; in a future version of numpy, it will be understood as (type, (1,)) / '(1,)type'.\n",
      "  _np_qint32 = np.dtype([(\"qint32\", np.int32, 1)])\n",
      "D:\\Program\\Anaconda3\\envs\\tensorflow\\lib\\site-packages\\tensorflow\\python\\framework\\dtypes.py:476: FutureWarning: Passing (type, 1) or '1type' as a synonym of type is deprecated; in a future version of numpy, it will be understood as (type, (1,)) / '(1,)type'.\n",
      "  np_resource = np.dtype([(\"resource\", np.ubyte, 1)])\n"
     ]
    }
   ],
   "source": [
    "import tensorflow as tf\n",
    "import numpy as np\n",
    "import os\n",
    "os.environ[\"CUDA_VISIBLE_DEVICES\"] = \"0\""
   ]
  },
  {
   "cell_type": "code",
   "execution_count": 2,
   "metadata": {
    "collapsed": true
   },
   "outputs": [],
   "source": [
    "from tensorflow.examples.tutorials.mnist import input_data\n",
    "import matplotlib.pyplot as plt\n",
    "tf.set_random_seed(1)\n",
    "np.random.seed(1)"
   ]
  },
  {
   "cell_type": "code",
   "execution_count": 3,
   "metadata": {},
   "outputs": [
    {
     "name": "stdout",
     "output_type": "stream",
     "text": [
      "Extracting ./mnist\\train-images-idx3-ubyte.gz\n",
      "Extracting ./mnist\\train-labels-idx1-ubyte.gz\n",
      "Extracting ./mnist\\t10k-images-idx3-ubyte.gz\n",
      "Extracting ./mnist\\t10k-labels-idx1-ubyte.gz\n",
      "(55000, 784)\n",
      "(55000, 10)\n"
     ]
    },
    {
     "data": {
      "image/png": "[encoded data removed]",
      "text/plain": [
       "<Figure size 432x288 with 1 Axes>"
      ]
     },
     "metadata": {},
     "output_type": "display_data"
    }
   ],
   "source": [
    "# Hyper Parameters\n",
    "BATCH_SIZE = 64\n",
    "TIME_STEP = 28          # rnn time step / image height\n",
    "INPUT_SIZE = 28         # rnn input size / image width\n",
    "LR = 0.01               # learning rate\n",
    "\n",
    "# data\n",
    "mnist = input_data.read_data_sets('./mnist', one_hot=True)              # they has been normalized to range (0,1)\n",
    "test_x = mnist.test.images[:2000]\n",
    "test_y = mnist.test.labels[:2000]\n",
    "\n",
    "# plot one example\n",
    "print(mnist.train.images.shape)     # (55000, 28 * 28)\n",
    "print(mnist.train.labels.shape)   # (55000, 10)\n",
    "plt.imshow(mnist.train.images[0].reshape((28, 28)), cmap='gray')\n",
    "plt.title('%i' % np.argmax(mnist.train.labels[0]))\n",
    "plt.show()"
   ]
  },
  {
   "cell_type": "code",
   "execution_count": 4,
   "metadata": {
    "collapsed": true
   },
   "outputs": [],
   "source": [
    "# tensorflow placeholders\n",
    "tf_x = tf.placeholder(tf.float32, [None, TIME_STEP * INPUT_SIZE])       # shape(batch, 784)\n",
    "image = tf.reshape(tf_x, [-1, TIME_STEP, INPUT_SIZE])                   # (batch, height, width, channel)\n",
    "tf_y = tf.placeholder(tf.int32, [None, 10])                             # input y"
   ]
  },
  {
   "cell_type": "code",
   "execution_count": 5,
   "metadata": {
    "collapsed": true
   },
   "outputs": [],
   "source": [
    "n_classes = 10  # MNIST classes (0-9 digits)\n",
    "\n",
    "# RNN\n",
    "with tf.variable_scope('LSTMCell'):\n",
    "    rnn_cell = tf.nn.rnn_cell.LSTMCell(num_units=64)\n",
    "\n",
    "with tf.variable_scope('dynamic_rnn'):\n",
    "    outputs, (h_c, h_n) = tf.nn.dynamic_rnn(\n",
    "        rnn_cell,                   # cell you have chosen\n",
    "        image,                      # input\n",
    "        initial_state=None,         # the initial hidden state\n",
    "        dtype=tf.float32,           # must given if set initial_state = None\n",
    "        time_major=False,           # False: (batch, time step, input); True: (time step, batch, input)\n",
    "    )\n",
    "    \n",
    "    output = tf.layers.dense(outputs[:, -1, :], n_classes)              # output based on the last output step\n",
    "\n",
    "with tf.name_scope('loss'):\n",
    "    loss = tf.losses.softmax_cross_entropy(onehot_labels=tf_y, logits=output)           # compute cost\n",
    "    tf.summary.scalar('loss', loss)     # add loss to scalar summary\n",
    "    \n",
    "    \n",
    "with tf.name_scope('train'):\n",
    "    train_op = tf.train.AdamOptimizer(LR).minimize(loss)\n",
    "\n",
    "with tf.name_scope('accuracy'):\n",
    "    accuracy = tf.metrics.accuracy(          # return (acc, update_op), and create 2 local variables\n",
    "        labels=tf.argmax(tf_y, axis=1), predictions=tf.argmax(output, axis=1),)[1]\n",
    "\n"
   ]
  },
  {
   "cell_type": "code",
   "execution_count": 6,
   "metadata": {
    "collapsed": true
   },
   "outputs": [],
   "source": [
    "gpu_options = tf.GPUOptions(per_process_gpu_memory_fraction=0.3)  \n",
    "sess = tf.Session(config=tf.ConfigProto(gpu_options=gpu_options)) "
   ]
  },
  {
   "cell_type": "code",
   "execution_count": 7,
   "metadata": {
    "collapsed": true
   },
   "outputs": [],
   "source": [
    "init_op = tf.group(tf.global_variables_initializer(), tf.local_variables_initializer()) # the local var is for accuracy_op\n",
    "writer = tf.summary.FileWriter('rnn/classification', sess.graph)     # write to file\n",
    "merge_op = tf.summary.merge_all()                       # operation to merge all summary\n",
    "sess.run(init_op)     # initialize var in graph"
   ]
  },
  {
   "cell_type": "code",
   "execution_count": 8,
   "metadata": {},
   "outputs": [
    {
     "name": "stdout",
     "output_type": "stream",
     "text": [
      "train loss: 2.3040 | test accuracy: 0.13\n",
      "train loss: 0.8905 | test accuracy: 0.41\n",
      "train loss: 0.6183 | test accuracy: 0.52\n",
      "train loss: 0.5238 | test accuracy: 0.60\n",
      "train loss: 0.4562 | test accuracy: 0.65\n",
      "train loss: 0.1845 | test accuracy: 0.69\n",
      "train loss: 0.3138 | test accuracy: 0.72\n",
      "train loss: 0.1180 | test accuracy: 0.75\n",
      "train loss: 0.1563 | test accuracy: 0.77\n",
      "train loss: 0.3933 | test accuracy: 0.78\n",
      "train loss: 0.0675 | test accuracy: 0.80\n",
      "train loss: 0.2283 | test accuracy: 0.81\n",
      "train loss: 0.1033 | test accuracy: 0.82\n",
      "train loss: 0.1577 | test accuracy: 0.83\n",
      "train loss: 0.1588 | test accuracy: 0.84\n",
      "train loss: 0.1831 | test accuracy: 0.84\n",
      "train loss: 0.0889 | test accuracy: 0.85\n",
      "train loss: 0.2454 | test accuracy: 0.85\n",
      "train loss: 0.1992 | test accuracy: 0.86\n",
      "train loss: 0.0612 | test accuracy: 0.86\n",
      "train loss: 0.0981 | test accuracy: 0.87\n",
      "train loss: 0.1696 | test accuracy: 0.87\n",
      "train loss: 0.1592 | test accuracy: 0.88\n",
      "train loss: 0.1858 | test accuracy: 0.88\n"
     ]
    }
   ],
   "source": [
    "saver = tf.train.Saver()  # define a saver for saving and restoring\n",
    "save_path = 'rnn/classification/model.ckpt'\n",
    "for step in range(1200):    # training\n",
    "    b_x, b_y = mnist.train.next_batch(BATCH_SIZE)\n",
    "    _, loss_ = sess.run([train_op, loss], {tf_x: b_x, tf_y: b_y})\n",
    "    result = sess.run(merge_op, {tf_x: b_x, tf_y: b_y}) \n",
    "    writer.add_summary(result, step)\n",
    "    if step % 50 == 0:      # testing\n",
    "        saver.save(sess, save_path, global_step=step)\n",
    "        accuracy_ = sess.run(accuracy, {tf_x: test_x, tf_y: test_y})\n",
    "        print('train loss: %.4f' % loss_, '| test accuracy: %.2f' % accuracy_)"
   ]
  },
  {
   "cell_type": "markdown",
   "metadata": {},
   "source": [
    "# Saver 保存讀取"
   ]
  },
  {
   "cell_type": "code",
   "execution_count": 9,
   "metadata": {
    "collapsed": true
   },
   "outputs": [],
   "source": [
    "def save():  \n",
    "    saver = tf.train.Saver()  # define a saver for saving and restoring\n",
    "    saver.save(sess, save_path)  # meta_graph is not recommended       \n",
    "\n",
    "save()"
   ]
  },
  {
   "cell_type": "code",
   "execution_count": 10,
   "metadata": {},
   "outputs": [
    {
     "name": "stdout",
     "output_type": "stream",
     "text": [
      "This is reload\n",
      "Found checkpoint, try to restore...\n",
      "INFO:tensorflow:Restoring parameters from rnn/classification/model.ckpt\n",
      "<tf.Variable 'dynamic_rnn/rnn/lstm_cell/kernel:0' shape=(92, 256) dtype=float32_ref>\n",
      "<tf.Variable 'dynamic_rnn/rnn/lstm_cell/bias:0' shape=(256,) dtype=float32_ref>\n",
      "<tf.Variable 'dynamic_rnn/dense/kernel:0' shape=(64, 10) dtype=float32_ref>\n",
      "<tf.Variable 'dynamic_rnn/dense/bias:0' shape=(10,) dtype=float32_ref>\n"
     ]
    }
   ],
   "source": [
    "# destroy previous net\n",
    "tf.reset_default_graph()\n",
    "\n",
    "def reload():\n",
    "    print('This is reload')\n",
    "    with tf.Session() as sess:\n",
    "        ckpt = tf.train.get_checkpoint_state(os.path.dirname(save_path))       \n",
    "        if ckpt and ckpt.model_checkpoint_path:\n",
    "#             print(tf.train.latest_checkpoint('cnn'))            \n",
    "            print('Found checkpoint, try to restore...')\n",
    "            saver = tf.train.import_meta_graph(''.join([ckpt.model_checkpoint_path, '.meta']))   \n",
    "            saver.restore(sess, tf.train.latest_checkpoint(save_path.replace('model.ckpt','')))\n",
    "\n",
    "            # 列印出網路中可訓練的權重引數名\n",
    "            for var in tf.trainable_variables():\n",
    "                print(var)           \n",
    "reload() "
   ]
  },
  {
   "cell_type": "markdown",
   "metadata": {},
   "source": [
    "# Reload 後繼續train"
   ]
  },
  {
   "cell_type": "code",
   "execution_count": 11,
   "metadata": {},
   "outputs": [
    {
     "name": "stdout",
     "output_type": "stream",
     "text": [
      "train loss: 0.0695 | test accuracy: 0.88\n",
      "train loss: 0.1408 | test accuracy: 0.89\n",
      "train loss: 0.1159 | test accuracy: 0.89\n",
      "train loss: 0.2122 | test accuracy: 0.89\n",
      "train loss: 0.1707 | test accuracy: 0.89\n",
      "train loss: 0.0908 | test accuracy: 0.89\n",
      "train loss: 0.1014 | test accuracy: 0.90\n",
      "train loss: 0.1640 | test accuracy: 0.90\n",
      "train loss: 0.2737 | test accuracy: 0.90\n",
      "train loss: 0.0221 | test accuracy: 0.90\n",
      "train loss: 0.1412 | test accuracy: 0.90\n",
      "train loss: 0.0480 | test accuracy: 0.91\n",
      "train loss: 0.0511 | test accuracy: 0.91\n",
      "train loss: 0.0925 | test accuracy: 0.91\n",
      "train loss: 0.1257 | test accuracy: 0.91\n",
      "train loss: 0.0494 | test accuracy: 0.91\n",
      "train loss: 0.0087 | test accuracy: 0.91\n",
      "train loss: 0.0560 | test accuracy: 0.91\n",
      "train loss: 0.1176 | test accuracy: 0.92\n",
      "train loss: 0.0213 | test accuracy: 0.92\n",
      "train loss: 0.0151 | test accuracy: 0.92\n",
      "train loss: 0.1508 | test accuracy: 0.92\n",
      "train loss: 0.2267 | test accuracy: 0.92\n",
      "train loss: 0.0102 | test accuracy: 0.92\n"
     ]
    }
   ],
   "source": [
    "for step in range(1200):    # training\n",
    "    b_x, b_y = mnist.train.next_batch(BATCH_SIZE)\n",
    "    _, loss_ = sess.run([train_op, loss], {tf_x: b_x, tf_y: b_y})\n",
    "    result = sess.run(merge_op, {tf_x: b_x, tf_y: b_y}) \n",
    "    writer.add_summary(result, step)\n",
    "    if step % 50 == 0:      # testing\n",
    "        accuracy_ = sess.run(accuracy, {tf_x: test_x, tf_y: test_y})\n",
    "        print('train loss: %.4f' % loss_, '| test accuracy: %.2f' % accuracy_)"
   ]
  },
  {
   "cell_type": "code",
   "execution_count": null,
   "metadata": {
    "collapsed": true
   },
   "outputs": [],
   "source": []
  }
 ],
 "metadata": {
  "kernelspec": {
   "display_name": "Python 3",
   "language": "python",
   "name": "python3"
  },
  "language_info": {
   "codemirror_mode": {
    "name": "ipython",
    "version": 3
   },
   "file_extension": ".py",
   "mimetype": "text/x-python",
   "name": "python",
   "nbconvert_exporter": "python",
   "pygments_lexer": "ipython3",
   "version": "3.6.2"
  }
 },
 "nbformat": 4,
 "nbformat_minor": 2
}
