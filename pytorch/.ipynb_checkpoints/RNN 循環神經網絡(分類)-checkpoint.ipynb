{
 "cells": [
  {
   "cell_type": "code",
   "execution_count": 1,
   "metadata": {},
   "outputs": [
    {
     "name": "stdout",
     "output_type": "stream",
     "text": [
      "True\n",
      "cuda:0\n",
      "GeForce MX150\n"
     ]
    }
   ],
   "source": [
    "import torch\n",
    "flag = torch.cuda.is_available()\n",
    "print(flag)\n",
    "\n",
    "ngpu= 1\n",
    "# Decide which device we want to run on\n",
    "device = torch.device(\"cuda:0\" if (torch.cuda.is_available() and ngpu > 0) else \"cpu\")\n",
    "print(device)\n",
    "print(torch.cuda.get_device_name(0))"
   ]
  },
  {
   "cell_type": "code",
   "execution_count": 2,
   "metadata": {},
   "outputs": [],
   "source": [
    "# pip install torchvision==0.2.2\n",
    "import torch\n",
    "import torch.nn as nn\n",
    "import torch.utils.data as Data\n",
    "import torchvision      # 数据库模块\n",
    "import torchvision.transforms as transforms\n",
    "import matplotlib.pyplot as plt\n",
    "\n",
    "torch.manual_seed(1)    # reproducible\n",
    "\n",
    "# Hyper Parameters\n",
    "EPOCH = 1           # 训练整批数据多少次, 为了节约时间, 我们只训练一次\n",
    "BATCH_SIZE = 50\n",
    "LR = 0.001          # 学习率\n",
    "DOWNLOAD_MNIST = True  # 如果你已经下载好了mnist数据就写上 False\n",
    "\n",
    "\n",
    "# Mnist 手写数字\n",
    "train_data = torchvision.datasets.MNIST(\n",
    "    root='./mnist/',    # 保存或者提取位置\n",
    "    train=True,  # this is training data\n",
    "    transform=torchvision.transforms.ToTensor(),    # 转换 PIL.Image or numpy.ndarray 成\n",
    "                                                    # torch.FloatTensor (C x H x W), 训练的时候 normalize 成 [0.0, 1.0] 区间\n",
    "    download=DOWNLOAD_MNIST,          # 没下载就下载, 下载了就不用再下了\n",
    ")"
   ]
  },
  {
   "cell_type": "code",
   "execution_count": 3,
   "metadata": {},
   "outputs": [
    {
     "name": "stderr",
     "output_type": "stream",
     "text": [
      "D:\\Program\\Anaconda3\\envs\\tensorflow\\lib\\site-packages\\torchvision\\datasets\\mnist.py:58: UserWarning: test_data has been renamed data\n",
      "  warnings.warn(\"test_data has been renamed data\")\n",
      "D:\\Program\\Anaconda3\\envs\\tensorflow\\lib\\site-packages\\torchvision\\datasets\\mnist.py:48: UserWarning: test_labels has been renamed targets\n",
      "  warnings.warn(\"test_labels has been renamed targets\")\n"
     ]
    }
   ],
   "source": [
    "test_data = torchvision.datasets.MNIST(root='./mnist/', train=False)\n",
    "\n",
    "# 批训练 50samples, 1 channel, 28x28 (50, 1, 28, 28)\n",
    "train_loader = Data.DataLoader(dataset=train_data, batch_size=BATCH_SIZE, shuffle=True)\n",
    "\n",
    "# convert test data into Variable, pick 2000 samples to speed up testing\n",
    "test_data = torchvision.datasets.MNIST(root='./mnist/', train=False, transform=transforms.ToTensor())\n",
    "test_x = test_data.test_data.type(torch.FloatTensor)[:2000]/255.   # shape (2000, 28, 28) value in range(0,1)\n",
    "test_y = test_data.test_labels.numpy()[:2000]    # covert to numpy array\n",
    "\n",
    "# test_x = test_x.cuda()\n",
    "# test_y = test_y.cuda()"
   ]
  },
  {
   "cell_type": "code",
   "execution_count": 4,
   "metadata": {},
   "outputs": [
    {
     "data": {
      "text/plain": [
       "torch.Size([2000, 28, 28])"
      ]
     },
     "execution_count": 4,
     "metadata": {},
     "output_type": "execute_result"
    }
   ],
   "source": [
    "test_x.shape"
   ]
  },
  {
   "cell_type": "markdown",
   "metadata": {},
   "source": [
    "# RNN模型"
   ]
  },
  {
   "cell_type": "code",
   "execution_count": 5,
   "metadata": {},
   "outputs": [
    {
     "name": "stdout",
     "output_type": "stream",
     "text": [
      "Using GPU\n"
     ]
    },
    {
     "data": {
      "text/plain": [
       "RNN(\n",
       "  (rnn): LSTM(28, 64, batch_first=True)\n",
       "  (out): Linear(in_features=64, out_features=10, bias=True)\n",
       ")"
      ]
     },
     "execution_count": 5,
     "metadata": {},
     "output_type": "execute_result"
    }
   ],
   "source": [
    "class RNN(nn.Module):\n",
    "    def __init__(self):\n",
    "        super(RNN, self).__init__()\n",
    "\n",
    "        self.rnn = nn.LSTM(     # LSTM 效果要比 nn.RNN() 好多了\n",
    "            input_size=28,      # 图片每行的数据像素点\n",
    "            hidden_size=64,     # rnn hidden unit\n",
    "            num_layers=1,       # 有几层 RNN layers\n",
    "            batch_first=True,   # input & output 会是以 batch size 为第一维度的特征集 e.g. (batch, time_step, input_size)\n",
    "        )\n",
    "\n",
    "        self.out = nn.Linear(64, 10)    # 输出层\n",
    "\n",
    "    def forward(self, x):\n",
    "        # x shape (batch, time_step, input_size)\n",
    "        # r_out shape (batch, time_step, output_size)\n",
    "        # h_n shape (n_layers, batch, hidden_size)   LSTM 有两个 hidden states, h_n 是分线, h_c 是主线\n",
    "        # h_c shape (n_layers, batch, hidden_size)\n",
    "        r_out, (h_n, h_c) = self.rnn(x, None)   # None 表示 hidden state 会用全0的 state\n",
    "\n",
    "        # 选取最后一个时间点的 r_out 输出\n",
    "        # 这里 r_out[:, -1, :] 的值也是 h_n 的值\n",
    "        out = self.out(r_out[:, -1, :])\n",
    "        return out\n",
    "\n",
    "rnn = RNN()\n",
    "rnn.cuda()\n",
    "\n",
    "if torch.cuda.is_available():\n",
    "    print(\"Using GPU\")\n",
    "device = torch.device(\"cuda:0\" if torch.cuda.is_available() else \"cpu\")\n",
    "rnn.to(device)"
   ]
  },
  {
   "cell_type": "markdown",
   "metadata": {},
   "source": [
    "# 訓練"
   ]
  },
  {
   "cell_type": "code",
   "execution_count": 6,
   "metadata": {},
   "outputs": [
    {
     "name": "stdout",
     "output_type": "stream",
     "text": [
      "Epoch:  0 | train loss: 2.2841 | test accuracy: 0.10\n",
      "Epoch:  0 | train loss: 2.2513 | test accuracy: 0.20\n",
      "Epoch:  0 | train loss: 1.3687 | test accuracy: 0.55\n",
      "Epoch:  0 | train loss: 1.1728 | test accuracy: 0.63\n",
      "Epoch:  0 | train loss: 0.9274 | test accuracy: 0.73\n",
      "Epoch:  0 | train loss: 0.5960 | test accuracy: 0.76\n",
      "Epoch:  0 | train loss: 0.3896 | test accuracy: 0.78\n",
      "Epoch:  0 | train loss: 0.6849 | test accuracy: 0.82\n",
      "Epoch:  0 | train loss: 0.5848 | test accuracy: 0.83\n",
      "Epoch:  0 | train loss: 0.4549 | test accuracy: 0.85\n",
      "Epoch:  0 | train loss: 0.3686 | test accuracy: 0.86\n",
      "Epoch:  0 | train loss: 0.4995 | test accuracy: 0.85\n",
      "Epoch:  0 | train loss: 0.3754 | test accuracy: 0.87\n",
      "Epoch:  0 | train loss: 0.1971 | test accuracy: 0.88\n",
      "Epoch:  0 | train loss: 0.3863 | test accuracy: 0.88\n",
      "Epoch:  0 | train loss: 0.2407 | test accuracy: 0.90\n",
      "Epoch:  0 | train loss: 0.1543 | test accuracy: 0.88\n",
      "Epoch:  0 | train loss: 0.3321 | test accuracy: 0.90\n",
      "Epoch:  0 | train loss: 0.3278 | test accuracy: 0.89\n",
      "Epoch:  0 | train loss: 0.2987 | test accuracy: 0.90\n",
      "Epoch:  0 | train loss: 0.1803 | test accuracy: 0.91\n",
      "Epoch:  0 | train loss: 0.1730 | test accuracy: 0.92\n",
      "Epoch:  0 | train loss: 0.1221 | test accuracy: 0.93\n",
      "Epoch:  0 | train loss: 0.1075 | test accuracy: 0.92\n"
     ]
    }
   ],
   "source": [
    "optimizer = torch.optim.Adam(rnn.parameters(), lr=LR)   # optimize all parameters\n",
    "loss_func = nn.CrossEntropyLoss()   # the target label is not one-hotted\n",
    "\n",
    "# training and testing\n",
    "for epoch in range(EPOCH):\n",
    "    for step, (x, b_y) in enumerate(train_loader):   # gives batch data\n",
    "        x = x.cuda()\n",
    "        b_y = b_y.cuda()\n",
    "        \n",
    "        b_x = x.view(-1, 28, 28).cuda()   # reshape x to (batch, time_step, input_size)\n",
    "\n",
    "        output = rnn(b_x)               # rnn output\n",
    "        loss = loss_func(output, b_y)   # cross entropy loss\n",
    "        optimizer.zero_grad()           # clear gradients for this training step\n",
    "        loss.backward()                 # backpropagation, compute gradients\n",
    "        optimizer.step()                # apply gradients\n",
    "        \n",
    "        if step % 50 == 0:\n",
    "            test_output = rnn(test_x.cuda())                   # (samples, time_step, input_size)\n",
    "            pred_y = torch.max(test_output, 1)[1].data.cpu().numpy()\n",
    "            accuracy = float((pred_y == test_y).astype(int).sum()) / float(test_y.size)\n",
    "            print('Epoch: ', epoch, '| train loss: %.4f' % loss.data.cpu().numpy(), '| test accuracy: %.2f' % accuracy)"
   ]
  },
  {
   "cell_type": "code",
   "execution_count": 7,
   "metadata": {},
   "outputs": [
    {
     "name": "stdout",
     "output_type": "stream",
     "text": [
      "[7 2 1 0 4 1 4 9 0 9] prediction number\n",
      "[7 2 1 0 4 1 4 9 5 9] real number\n"
     ]
    }
   ],
   "source": [
    "test_output = rnn(test_x[:10].cuda().view(-1, 28, 28))\n",
    "pred_y = torch.max(test_output, 1)[1].data.cpu().numpy().squeeze()\n",
    "print(pred_y, 'prediction number')\n",
    "print(test_y[:10], 'real number')"
   ]
  }
 ],
 "metadata": {
  "kernelspec": {
   "display_name": "Python 3",
   "language": "python",
   "name": "python3"
  },
  "language_info": {
   "codemirror_mode": {
    "name": "ipython",
    "version": 3
   },
   "file_extension": ".py",
   "mimetype": "text/x-python",
   "name": "python",
   "nbconvert_exporter": "python",
   "pygments_lexer": "ipython3",
   "version": "3.6.2"
  }
 },
 "nbformat": 4,
 "nbformat_minor": 4
}
